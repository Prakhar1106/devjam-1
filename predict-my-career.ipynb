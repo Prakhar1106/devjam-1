{
 "cells": [
  {
   "cell_type": "markdown",
   "id": "laughing-digit",
   "metadata": {
    "papermill": {
     "duration": 0.039767,
     "end_time": "2021-05-19T12:25:56.980248",
     "exception": false,
     "start_time": "2021-05-19T12:25:56.940481",
     "status": "completed"
    },
    "tags": []
   },
   "source": [
    "# **1. Importing Necessary Libraries** 📚"
   ]
  },
  {
   "cell_type": "code",
   "execution_count": 1,
   "id": "tough-satellite",
   "metadata": {
    "execution": {
     "iopub.execute_input": "2021-05-19T12:25:57.062313Z",
     "iopub.status.busy": "2021-05-19T12:25:57.060839Z",
     "iopub.status.idle": "2021-05-19T12:25:58.335887Z",
     "shell.execute_reply": "2021-05-19T12:25:58.335116Z"
    },
    "papermill": {
     "duration": 1.316728,
     "end_time": "2021-05-19T12:25:58.336081",
     "exception": false,
     "start_time": "2021-05-19T12:25:57.019353",
     "status": "completed"
    },
    "tags": []
   },
   "outputs": [],
   "source": [
    "import pandas as pd\n",
    "import numpy as np\n",
    "import matplotlib.pyplot as plt\n",
    "import seaborn as sns\n",
    "from sklearn.model_selection import train_test_split\n",
    "from sklearn.metrics import confusion_matrix,accuracy_score\n",
    "from sklearn import tree,svm\n",
    "from sklearn.ensemble import RandomForestClassifier\n",
    "from xgboost import XGBClassifier"
   ]
  },
  {
   "cell_type": "markdown",
   "id": "still-cabinet",
   "metadata": {
    "papermill": {
     "duration": 0.034062,
     "end_time": "2021-05-19T12:25:58.404457",
     "exception": false,
     "start_time": "2021-05-19T12:25:58.370395",
     "status": "completed"
    },
    "tags": []
   },
   "source": [
    "# **2. Loading Dataset** 📊"
   ]
  },
  {
   "cell_type": "code",
   "execution_count": 2,
   "id": "amber-cheat",
   "metadata": {
    "execution": {
     "iopub.execute_input": "2021-05-19T12:25:58.491112Z",
     "iopub.status.busy": "2021-05-19T12:25:58.490286Z",
     "iopub.status.idle": "2021-05-19T12:25:58.712187Z",
     "shell.execute_reply": "2021-05-19T12:25:58.712715Z"
    },
    "papermill": {
     "duration": 0.274649,
     "end_time": "2021-05-19T12:25:58.712901",
     "exception": false,
     "start_time": "2021-05-19T12:25:58.438252",
     "status": "completed"
    },
    "tags": []
   },
   "outputs": [
    {
     "data": {
      "text/html": [
       "<div>\n",
       "<style scoped>\n",
       "    .dataframe tbody tr th:only-of-type {\n",
       "        vertical-align: middle;\n",
       "    }\n",
       "\n",
       "    .dataframe tbody tr th {\n",
       "        vertical-align: top;\n",
       "    }\n",
       "\n",
       "    .dataframe thead th {\n",
       "        text-align: right;\n",
       "    }\n",
       "</style>\n",
       "<table border=\"1\" class=\"dataframe\">\n",
       "  <thead>\n",
       "    <tr style=\"text-align: right;\">\n",
       "      <th></th>\n",
       "      <th>Logical quotient rating</th>\n",
       "      <th>hackathons</th>\n",
       "      <th>coding skills rating</th>\n",
       "      <th>public speaking points</th>\n",
       "      <th>self-learning capability?</th>\n",
       "      <th>Extra-courses did</th>\n",
       "      <th>certifications</th>\n",
       "      <th>workshops</th>\n",
       "      <th>reading and writing skills</th>\n",
       "      <th>memory capability score</th>\n",
       "      <th>Interested subjects</th>\n",
       "      <th>interested career area</th>\n",
       "      <th>Type of company want to settle in?</th>\n",
       "      <th>Taken inputs from seniors or elders</th>\n",
       "      <th>Interested Type of Books</th>\n",
       "      <th>Management or Technical</th>\n",
       "      <th>hard/smart worker</th>\n",
       "      <th>worked in teams ever?</th>\n",
       "      <th>Introvert</th>\n",
       "      <th>Suggested Job Role</th>\n",
       "    </tr>\n",
       "  </thead>\n",
       "  <tbody>\n",
       "    <tr>\n",
       "      <th>0</th>\n",
       "      <td>5</td>\n",
       "      <td>0</td>\n",
       "      <td>6</td>\n",
       "      <td>2</td>\n",
       "      <td>yes</td>\n",
       "      <td>no</td>\n",
       "      <td>information security</td>\n",
       "      <td>testing</td>\n",
       "      <td>poor</td>\n",
       "      <td>poor</td>\n",
       "      <td>programming</td>\n",
       "      <td>testing</td>\n",
       "      <td>BPA</td>\n",
       "      <td>no</td>\n",
       "      <td>Series</td>\n",
       "      <td>Management</td>\n",
       "      <td>smart worker</td>\n",
       "      <td>yes</td>\n",
       "      <td>no</td>\n",
       "      <td>Applications Developer</td>\n",
       "    </tr>\n",
       "    <tr>\n",
       "      <th>1</th>\n",
       "      <td>7</td>\n",
       "      <td>6</td>\n",
       "      <td>4</td>\n",
       "      <td>3</td>\n",
       "      <td>no</td>\n",
       "      <td>yes</td>\n",
       "      <td>shell programming</td>\n",
       "      <td>testing</td>\n",
       "      <td>excellent</td>\n",
       "      <td>medium</td>\n",
       "      <td>Management</td>\n",
       "      <td>system developer</td>\n",
       "      <td>Cloud Services</td>\n",
       "      <td>yes</td>\n",
       "      <td>Autobiographies</td>\n",
       "      <td>Technical</td>\n",
       "      <td>hard worker</td>\n",
       "      <td>no</td>\n",
       "      <td>yes</td>\n",
       "      <td>Applications Developer</td>\n",
       "    </tr>\n",
       "    <tr>\n",
       "      <th>2</th>\n",
       "      <td>2</td>\n",
       "      <td>3</td>\n",
       "      <td>9</td>\n",
       "      <td>1</td>\n",
       "      <td>no</td>\n",
       "      <td>yes</td>\n",
       "      <td>information security</td>\n",
       "      <td>testing</td>\n",
       "      <td>excellent</td>\n",
       "      <td>poor</td>\n",
       "      <td>data engineering</td>\n",
       "      <td>Business process analyst</td>\n",
       "      <td>product development</td>\n",
       "      <td>yes</td>\n",
       "      <td>Travel</td>\n",
       "      <td>Technical</td>\n",
       "      <td>smart worker</td>\n",
       "      <td>no</td>\n",
       "      <td>no</td>\n",
       "      <td>Applications Developer</td>\n",
       "    </tr>\n",
       "    <tr>\n",
       "      <th>3</th>\n",
       "      <td>2</td>\n",
       "      <td>6</td>\n",
       "      <td>3</td>\n",
       "      <td>5</td>\n",
       "      <td>no</td>\n",
       "      <td>yes</td>\n",
       "      <td>r programming</td>\n",
       "      <td>database security</td>\n",
       "      <td>excellent</td>\n",
       "      <td>poor</td>\n",
       "      <td>networks</td>\n",
       "      <td>testing</td>\n",
       "      <td>Testing and Maintainance Services</td>\n",
       "      <td>yes</td>\n",
       "      <td>Guide</td>\n",
       "      <td>Management</td>\n",
       "      <td>smart worker</td>\n",
       "      <td>yes</td>\n",
       "      <td>yes</td>\n",
       "      <td>Applications Developer</td>\n",
       "    </tr>\n",
       "    <tr>\n",
       "      <th>4</th>\n",
       "      <td>2</td>\n",
       "      <td>0</td>\n",
       "      <td>3</td>\n",
       "      <td>4</td>\n",
       "      <td>yes</td>\n",
       "      <td>no</td>\n",
       "      <td>distro making</td>\n",
       "      <td>game development</td>\n",
       "      <td>excellent</td>\n",
       "      <td>medium</td>\n",
       "      <td>Software Engineering</td>\n",
       "      <td>system developer</td>\n",
       "      <td>BPA</td>\n",
       "      <td>no</td>\n",
       "      <td>Health</td>\n",
       "      <td>Technical</td>\n",
       "      <td>hard worker</td>\n",
       "      <td>yes</td>\n",
       "      <td>no</td>\n",
       "      <td>Applications Developer</td>\n",
       "    </tr>\n",
       "  </tbody>\n",
       "</table>\n",
       "</div>"
      ],
      "text/plain": [
       "   Logical quotient rating  hackathons  coding skills rating  \\\n",
       "0                        5           0                     6   \n",
       "1                        7           6                     4   \n",
       "2                        2           3                     9   \n",
       "3                        2           6                     3   \n",
       "4                        2           0                     3   \n",
       "\n",
       "   public speaking points self-learning capability? Extra-courses did  \\\n",
       "0                       2                       yes                no   \n",
       "1                       3                        no               yes   \n",
       "2                       1                        no               yes   \n",
       "3                       5                        no               yes   \n",
       "4                       4                       yes                no   \n",
       "\n",
       "         certifications          workshops reading and writing skills  \\\n",
       "0  information security            testing                       poor   \n",
       "1     shell programming            testing                  excellent   \n",
       "2  information security            testing                  excellent   \n",
       "3         r programming  database security                  excellent   \n",
       "4         distro making   game development                  excellent   \n",
       "\n",
       "  memory capability score   Interested subjects   interested career area   \\\n",
       "0                    poor           programming                   testing   \n",
       "1                  medium            Management          system developer   \n",
       "2                    poor      data engineering  Business process analyst   \n",
       "3                    poor              networks                   testing   \n",
       "4                  medium  Software Engineering          system developer   \n",
       "\n",
       "  Type of company want to settle in? Taken inputs from seniors or elders  \\\n",
       "0                                BPA                                  no   \n",
       "1                     Cloud Services                                 yes   \n",
       "2                product development                                 yes   \n",
       "3  Testing and Maintainance Services                                 yes   \n",
       "4                                BPA                                  no   \n",
       "\n",
       "  Interested Type of Books Management or Technical hard/smart worker  \\\n",
       "0                   Series              Management      smart worker   \n",
       "1          Autobiographies               Technical       hard worker   \n",
       "2                   Travel               Technical      smart worker   \n",
       "3                    Guide              Management      smart worker   \n",
       "4                   Health               Technical       hard worker   \n",
       "\n",
       "  worked in teams ever? Introvert      Suggested Job Role  \n",
       "0                   yes        no  Applications Developer  \n",
       "1                    no       yes  Applications Developer  \n",
       "2                    no        no  Applications Developer  \n",
       "3                   yes       yes  Applications Developer  \n",
       "4                   yes        no  Applications Developer  "
      ]
     },
     "execution_count": 2,
     "metadata": {},
     "output_type": "execute_result"
    }
   ],
   "source": [
    "df = pd.read_csv('https://raw.githubusercontent.com/Umang-19/devjam/main/public/mldata.csv')\n",
    "df.head()"
   ]
  },
  {
   "cell_type": "code",
   "execution_count": 3,
   "id": "weird-prescription",
   "metadata": {
    "execution": {
     "iopub.execute_input": "2021-05-19T12:25:58.788299Z",
     "iopub.status.busy": "2021-05-19T12:25:58.787646Z",
     "iopub.status.idle": "2021-05-19T12:25:58.793940Z",
     "shell.execute_reply": "2021-05-19T12:25:58.793317Z"
    },
    "papermill": {
     "duration": 0.040774,
     "end_time": "2021-05-19T12:25:58.794097",
     "exception": false,
     "start_time": "2021-05-19T12:25:58.753323",
     "status": "completed"
    },
    "tags": []
   },
   "outputs": [
    {
     "name": "stdout",
     "output_type": "stream",
     "text": [
      "The shape of our training set: 6901 professionals and 20 features\n"
     ]
    }
   ],
   "source": [
    "print('The shape of our training set: %s professionals and %s features'%(df.shape[0],df.shape[1]))"
   ]
  },
  {
   "cell_type": "markdown",
   "id": "aboriginal-arkansas",
   "metadata": {
    "papermill": {
     "duration": 0.032493,
     "end_time": "2021-05-19T12:25:58.859099",
     "exception": false,
     "start_time": "2021-05-19T12:25:58.826606",
     "status": "completed"
    },
    "tags": []
   },
   "source": [
    "# **3. Data Preprocessing (Cleaning)** 🧹"
   ]
  },
  {
   "cell_type": "code",
   "execution_count": 4,
   "id": "gorgeous-specific",
   "metadata": {
    "execution": {
     "iopub.execute_input": "2021-05-19T12:25:58.931126Z",
     "iopub.status.busy": "2021-05-19T12:25:58.930320Z",
     "iopub.status.idle": "2021-05-19T12:25:58.933652Z",
     "shell.execute_reply": "2021-05-19T12:25:58.934268Z"
    },
    "papermill": {
     "duration": 0.042108,
     "end_time": "2021-05-19T12:25:58.934464",
     "exception": false,
     "start_time": "2021-05-19T12:25:58.892356",
     "status": "completed"
    },
    "tags": []
   },
   "outputs": [
    {
     "name": "stdout",
     "output_type": "stream",
     "text": [
      "Columns in our dataset:  Index(['Logical quotient rating', 'hackathons', 'coding skills rating',\n",
      "       'public speaking points', 'self-learning capability?',\n",
      "       'Extra-courses did', 'certifications', 'workshops',\n",
      "       'reading and writing skills', 'memory capability score',\n",
      "       'Interested subjects', 'interested career area ',\n",
      "       'Type of company want to settle in?',\n",
      "       'Taken inputs from seniors or elders', 'Interested Type of Books',\n",
      "       'Management or Technical', 'hard/smart worker', 'worked in teams ever?',\n",
      "       'Introvert', 'Suggested Job Role'],\n",
      "      dtype='object')\n"
     ]
    }
   ],
   "source": [
    "print(\"Columns in our dataset: \" , df.columns)"
   ]
  },
  {
   "cell_type": "code",
   "execution_count": 5,
   "id": "saved-bankruptcy",
   "metadata": {
    "execution": {
     "iopub.execute_input": "2021-05-19T12:25:59.010917Z",
     "iopub.status.busy": "2021-05-19T12:25:59.009738Z",
     "iopub.status.idle": "2021-05-19T12:25:59.014964Z",
     "shell.execute_reply": "2021-05-19T12:25:59.015434Z"
    },
    "papermill": {
     "duration": 0.048093,
     "end_time": "2021-05-19T12:25:59.015611",
     "exception": false,
     "start_time": "2021-05-19T12:25:58.967518",
     "status": "completed"
    },
    "tags": []
   },
   "outputs": [
    {
     "name": "stdout",
     "output_type": "stream",
     "text": [
      "List of Numerical features: \n",
      " ['Logical quotient rating', 'hackathons', 'coding skills rating', 'public speaking points']\n",
      "\n",
      "\n",
      "List of Categorical features: \n",
      " ['self-learning capability?', 'Extra-courses did', 'certifications', 'workshops', 'reading and writing skills', 'memory capability score', 'Interested subjects', 'interested career area ', 'Type of company want to settle in?', 'Taken inputs from seniors or elders', 'Interested Type of Books', 'Management or Technical', 'hard/smart worker', 'worked in teams ever?', 'Introvert', 'Suggested Job Role']\n"
     ]
    }
   ],
   "source": [
    "print(\"List of Numerical features: \\n\" , df.select_dtypes(include=np.number).columns.tolist())\n",
    "print(\"\\n\\nList of Categorical features: \\n\" , df.select_dtypes(include=['object']).columns.tolist())"
   ]
  },
  {
   "cell_type": "markdown",
   "id": "recovered-retro",
   "metadata": {
    "papermill": {
     "duration": 0.03299,
     "end_time": "2021-05-19T12:25:59.082813",
     "exception": false,
     "start_time": "2021-05-19T12:25:59.049823",
     "status": "completed"
    },
    "tags": []
   },
   "source": [
    "## (a) Checking Missing Values"
   ]
  },
  {
   "cell_type": "code",
   "execution_count": 6,
   "id": "sized-silver",
   "metadata": {
    "execution": {
     "iopub.execute_input": "2021-05-19T12:25:59.165802Z",
     "iopub.status.busy": "2021-05-19T12:25:59.164889Z",
     "iopub.status.idle": "2021-05-19T12:25:59.171534Z",
     "shell.execute_reply": "2021-05-19T12:25:59.171998Z"
    },
    "papermill": {
     "duration": 0.055808,
     "end_time": "2021-05-19T12:25:59.172205",
     "exception": false,
     "start_time": "2021-05-19T12:25:59.116397",
     "status": "completed"
    },
    "tags": []
   },
   "outputs": [
    {
     "data": {
      "text/plain": [
       "Logical quotient rating                0\n",
       "hackathons                             0\n",
       "coding skills rating                   0\n",
       "public speaking points                 0\n",
       "self-learning capability?              0\n",
       "Extra-courses did                      0\n",
       "certifications                         0\n",
       "workshops                              0\n",
       "reading and writing skills             0\n",
       "memory capability score                0\n",
       "Interested subjects                    0\n",
       "interested career area                 0\n",
       "Type of company want to settle in?     0\n",
       "Taken inputs from seniors or elders    0\n",
       "Interested Type of Books               0\n",
       "Management or Technical                0\n",
       "hard/smart worker                      0\n",
       "worked in teams ever?                  0\n",
       "Introvert                              0\n",
       "Suggested Job Role                     0\n",
       "dtype: int64"
      ]
     },
     "execution_count": 6,
     "metadata": {},
     "output_type": "execute_result"
    }
   ],
   "source": [
    "df.isnull().sum(axis=0)"
   ]
  },
  {
   "cell_type": "markdown",
   "id": "formed-snowboard",
   "metadata": {
    "papermill": {
     "duration": 0.03337,
     "end_time": "2021-05-19T12:25:59.239209",
     "exception": false,
     "start_time": "2021-05-19T12:25:59.205839",
     "status": "completed"
    },
    "tags": []
   },
   "source": [
    "**Observation: No missing values.**"
   ]
  },
  {
   "cell_type": "markdown",
   "id": "unusual-baking",
   "metadata": {
    "papermill": {
     "duration": 0.033579,
     "end_time": "2021-05-19T12:25:59.306243",
     "exception": false,
     "start_time": "2021-05-19T12:25:59.272664",
     "status": "completed"
    },
    "tags": []
   },
   "source": [
    "## (b) Checking Distinct Values for Categorical Features"
   ]
  },
  {
   "cell_type": "code",
   "execution_count": 7,
   "id": "atlantic-copyright",
   "metadata": {
    "execution": {
     "iopub.execute_input": "2021-05-19T12:25:59.379681Z",
     "iopub.status.busy": "2021-05-19T12:25:59.379032Z",
     "iopub.status.idle": "2021-05-19T12:25:59.421907Z",
     "shell.execute_reply": "2021-05-19T12:25:59.421335Z"
    },
    "papermill": {
     "duration": 0.080757,
     "end_time": "2021-05-19T12:25:59.422094",
     "exception": false,
     "start_time": "2021-05-19T12:25:59.341337",
     "status": "completed"
    },
    "tags": []
   },
   "outputs": [
    {
     "name": "stdout",
     "output_type": "stream",
     "text": [
      "yes    3496\n",
      "no     3405\n",
      "Name: self-learning capability?, dtype: int64\n",
      "\n",
      "no     3529\n",
      "yes    3372\n",
      "Name: Extra-courses did, dtype: int64\n",
      "\n",
      "excellent    2328\n",
      "medium       2315\n",
      "poor         2258\n",
      "Name: reading and writing skills, dtype: int64\n",
      "\n",
      "medium       2317\n",
      "excellent    2303\n",
      "poor         2281\n",
      "Name: memory capability score, dtype: int64\n",
      "\n",
      "yes    3501\n",
      "no     3400\n",
      "Name: Taken inputs from seniors or elders, dtype: int64\n",
      "\n",
      "Management    3461\n",
      "Technical     3440\n",
      "Name: Management or Technical, dtype: int64\n",
      "\n",
      "smart worker    3523\n",
      "hard worker     3378\n",
      "Name: hard/smart worker, dtype: int64\n",
      "\n",
      "no     3470\n",
      "yes    3431\n",
      "Name: worked in teams ever?, dtype: int64\n",
      "\n",
      "yes    3544\n",
      "no     3357\n",
      "Name: Introvert, dtype: int64\n",
      "\n",
      "system developer            1178\n",
      "security                    1177\n",
      "Business process analyst    1154\n",
      "developer                   1145\n",
      "testing                     1128\n",
      "cloud computing             1119\n",
      "Name: interested career area , dtype: int64\n",
      "\n"
     ]
    }
   ],
   "source": [
    "categorical_col = df[['self-learning capability?', 'Extra-courses did','reading and writing skills', 'memory capability score', \n",
    "                      'Taken inputs from seniors or elders', 'Management or Technical', 'hard/smart worker', 'worked in teams ever?', \n",
    "                      'Introvert', 'interested career area ']]\n",
    "for i in categorical_col:\n",
    "    print(df[i].value_counts(), end=\"\\n\\n\")"
   ]
  },
  {
   "cell_type": "markdown",
   "id": "clinical-company",
   "metadata": {
    "papermill": {
     "duration": 0.03494,
     "end_time": "2021-05-19T12:25:59.493436",
     "exception": false,
     "start_time": "2021-05-19T12:25:59.458496",
     "status": "completed"
    },
    "tags": []
   },
   "source": [
    "**Observations**\n",
    "* The categorical features with yes or no can be made numerical easily using binary encoding."
   ]
  },
  {
   "cell_type": "markdown",
   "id": "concerned-uzbekistan",
   "metadata": {
    "papermill": {
     "duration": 0.035531,
     "end_time": "2021-05-19T12:25:59.564585",
     "exception": false,
     "start_time": "2021-05-19T12:25:59.529054",
     "status": "completed"
    },
    "tags": []
   },
   "source": [
    "## (c) Checking Data Balancing for Classification"
   ]
  },
  {
   "cell_type": "code",
   "execution_count": 8,
   "id": "ignored-grounds",
   "metadata": {
    "execution": {
     "iopub.execute_input": "2021-05-19T12:25:59.650990Z",
     "iopub.status.busy": "2021-05-19T12:25:59.650320Z",
     "iopub.status.idle": "2021-05-19T12:26:00.045031Z",
     "shell.execute_reply": "2021-05-19T12:26:00.045573Z"
    },
    "papermill": {
     "duration": 0.444905,
     "end_time": "2021-05-19T12:26:00.045738",
     "exception": false,
     "start_time": "2021-05-19T12:25:59.600833",
     "status": "completed"
    },
    "tags": []
   },
   "outputs": [
    {
     "data": {
      "text/plain": [
       "<AxesSubplot:xlabel='Suggested Job Role', ylabel='count'>"
      ]
     },
     "execution_count": 8,
     "metadata": {},
     "output_type": "execute_result"
    },
    {
     "data": {
      "image/png": "[encoded data removed]",
      "text/plain": [
       "<Figure size 3600x720 with 1 Axes>"
      ]
     },
     "metadata": {},
     "output_type": "display_data"
    }
   ],
   "source": [
    "# Checking for data imbalanceness if any\n",
    "sns.set(rc={'figure.figsize':(50,10)})\n",
    "sns.countplot(x = df[\"Suggested Job Role\"])"
   ]
  },
  {
   "cell_type": "markdown",
   "id": "earned-correction",
   "metadata": {
    "papermill": {
     "duration": 0.041568,
     "end_time": "2021-05-19T12:26:00.125724",
     "exception": false,
     "start_time": "2021-05-19T12:26:00.084156",
     "status": "completed"
    },
    "tags": []
   },
   "source": [
    "# **4. Exploratory Data Analysis** 📉"
   ]
  },
  {
   "cell_type": "markdown",
   "id": "beautiful-review",
   "metadata": {
    "papermill": {
     "duration": 0.040794,
     "end_time": "2021-05-19T12:26:00.208213",
     "exception": false,
     "start_time": "2021-05-19T12:26:00.167419",
     "status": "completed"
    },
    "tags": []
   },
   "source": [
    "## (a) Correlation Between Numerical Features"
   ]
  },
  {
   "cell_type": "code",
   "execution_count": 9,
   "id": "arranged-observation",
   "metadata": {
    "execution": {
     "iopub.execute_input": "2021-05-19T12:26:00.294362Z",
     "iopub.status.busy": "2021-05-19T12:26:00.293769Z",
     "iopub.status.idle": "2021-05-19T12:26:00.582446Z",
     "shell.execute_reply": "2021-05-19T12:26:00.582869Z"
    },
    "papermill": {
     "duration": 0.333667,
     "end_time": "2021-05-19T12:26:00.583036",
     "exception": false,
     "start_time": "2021-05-19T12:26:00.249369",
     "status": "completed"
    },
    "tags": []
   },
   "outputs": [
    {
     "data": {
      "text/plain": [
       "<AxesSubplot:>"
      ]
     },
     "execution_count": 9,
     "metadata": {},
     "output_type": "execute_result"
    },
    {
     "data": {
      "image/png": "[encoded data removed]",
      "text/plain": [
       "<Figure size 720x720 with 2 Axes>"
      ]
     },
     "metadata": {},
     "output_type": "display_data"
    }
   ],
   "source": [
    "corr = df[['Logical quotient rating', 'hackathons', \n",
    "           'coding skills rating', 'public speaking points']].corr()\n",
    "f,axes = plt.subplots(1,1,figsize = (10,10))\n",
    "sns.heatmap(corr,square=True,annot = True,linewidth = .4,center = 2,ax = axes)"
   ]
  },
  {
   "cell_type": "markdown",
   "id": "standing-carnival",
   "metadata": {
    "papermill": {
     "duration": 0.034728,
     "end_time": "2021-05-19T12:26:00.653048",
     "exception": false,
     "start_time": "2021-05-19T12:26:00.618320",
     "status": "completed"
    },
    "tags": []
   },
   "source": [
    "**No highly corelated numerical pair found.**"
   ]
  },
  {
   "cell_type": "markdown",
   "id": "bridal-spiritual",
   "metadata": {
    "papermill": {
     "duration": 0.035623,
     "end_time": "2021-05-19T12:26:00.723823",
     "exception": false,
     "start_time": "2021-05-19T12:26:00.688200",
     "status": "completed"
    },
    "tags": []
   },
   "source": [
    "## (b) Visualization for Categorical Variables"
   ]
  },
  {
   "cell_type": "code",
   "execution_count": 10,
   "id": "federal-decision",
   "metadata": {
    "execution": {
     "iopub.execute_input": "2021-05-19T12:26:00.802721Z",
     "iopub.status.busy": "2021-05-19T12:26:00.802151Z",
     "iopub.status.idle": "2021-05-19T12:26:00.806253Z",
     "shell.execute_reply": "2021-05-19T12:26:00.805669Z"
    },
    "papermill": {
     "duration": 0.046829,
     "end_time": "2021-05-19T12:26:00.806383",
     "exception": false,
     "start_time": "2021-05-19T12:26:00.759554",
     "status": "completed"
    },
    "tags": []
   },
   "outputs": [
    {
     "name": "stdout",
     "output_type": "stream",
     "text": [
      "Software Engineering     731\n",
      "IOT                      722\n",
      "cloud computing          721\n",
      "programming              716\n",
      "networks                 713\n",
      "Computer Architecture    703\n",
      "data engineering         672\n",
      "hacking                  663\n",
      "Management               644\n",
      "parallel computing       616\n",
      "Name: Interested subjects, dtype: int64\n"
     ]
    }
   ],
   "source": [
    "print(df[\"Interested subjects\"].value_counts())"
   ]
  },
  {
   "cell_type": "code",
   "execution_count": 11,
   "id": "direct-deviation",
   "metadata": {
    "execution": {
     "iopub.execute_input": "2021-05-19T12:26:01.018326Z",
     "iopub.status.busy": "2021-05-19T12:26:01.010253Z",
     "iopub.status.idle": "2021-05-19T12:26:01.253823Z",
     "shell.execute_reply": "2021-05-19T12:26:01.253153Z"
    },
    "papermill": {
     "duration": 0.410969,
     "end_time": "2021-05-19T12:26:01.253971",
     "exception": false,
     "start_time": "2021-05-19T12:26:00.843002",
     "status": "completed"
    },
    "tags": []
   },
   "outputs": [
    {
     "data": {
      "image/png": "[encoded data removed]",
      "text/plain": [
       "<Figure size 864x432 with 1 Axes>"
      ]
     },
     "metadata": {},
     "output_type": "display_data"
    }
   ],
   "source": [
    "# Figure Size\n",
    "fig, ax = plt.subplots(figsize=(12,6))\n",
    "\n",
    "# Horizontal Bar Plot\n",
    "title_cnt=df[\"Interested subjects\"].value_counts().sort_values(ascending=False).reset_index()\n",
    "mn= ax.barh(title_cnt.iloc[:,0], title_cnt.iloc[:,1],edgecolor='black', color=sns.color_palette('pastel',len(title_cnt)))\n",
    "\n",
    "\n",
    "\n",
    "\n",
    "# Remove axes splines\n",
    "for s in ['top','bottom','left','right']:\n",
    "    ax.spines[s].set_visible(False)\n",
    "\n",
    "# Remove x,y Ticks\n",
    "ax.xaxis.set_ticks_position('none')\n",
    "ax.yaxis.set_ticks_position('none')\n",
    "# Add padding between axes and labels\n",
    "ax.xaxis.set_tick_params(pad=5)\n",
    "ax.yaxis.set_tick_params(pad=10)\n",
    "\n",
    "\n",
    "# Show top values \n",
    "ax.invert_yaxis()\n",
    "\n",
    "# Add Plot Title\n",
    "ax.set_title('Interested Subjects',weight='bold',fontsize=20)\n",
    "ax.set_xlabel('Count', weight='bold')\n",
    "\n",
    "# Add annotation to bars\n",
    "for i in ax.patches:\n",
    "    ax.text(i.get_width()+1, i.get_y()+0.5, str(round((i.get_width()), 2)),\n",
    "             fontsize=10, fontweight='bold', color='grey')\n",
    "plt.yticks(weight='bold')\n",
    "plt.xticks(weight='bold')\n",
    "\n",
    "# Show Plot\n",
    "plt.show()"
   ]
  },
  {
   "cell_type": "code",
   "execution_count": 12,
   "id": "universal-helicopter",
   "metadata": {
    "execution": {
     "iopub.execute_input": "2021-05-19T12:26:01.343557Z",
     "iopub.status.busy": "2021-05-19T12:26:01.342896Z",
     "iopub.status.idle": "2021-05-19T12:26:01.346410Z",
     "shell.execute_reply": "2021-05-19T12:26:01.346963Z"
    },
    "papermill": {
     "duration": 0.052897,
     "end_time": "2021-05-19T12:26:01.347217",
     "exception": false,
     "start_time": "2021-05-19T12:26:01.294320",
     "status": "completed"
    },
    "tags": []
   },
   "outputs": [
    {
     "name": "stdout",
     "output_type": "stream",
     "text": [
      "Guide                    405\n",
      "Health                   401\n",
      "Horror                   377\n",
      "Self help                377\n",
      "Biographies              219\n",
      "Science fiction          218\n",
      "Satire                   212\n",
      "Childrens                212\n",
      "Autobiographies          210\n",
      "Prayer books             207\n",
      "Fantasy                  205\n",
      "Trilogy                  203\n",
      "Journals                 203\n",
      "Anthology                202\n",
      "Drama                    201\n",
      "Encyclopedias            201\n",
      "Mystery                  200\n",
      "History                  199\n",
      "Dictionaries             198\n",
      "Science                  198\n",
      "Diaries                  197\n",
      "Religion-Spirituality    197\n",
      "Poetry                   193\n",
      "Action and Adventure     193\n",
      "Comics                   186\n",
      "Cookbooks                186\n",
      "Travel                   186\n",
      "Art                      186\n",
      "Series                   180\n",
      "Math                     176\n",
      "Romance                  173\n",
      "Name: Interested Type of Books, dtype: int64\n"
     ]
    }
   ],
   "source": [
    "print(df[\"Interested Type of Books\"].value_counts())"
   ]
  },
  {
   "cell_type": "code",
   "execution_count": 13,
   "id": "outside-symphony",
   "metadata": {
    "execution": {
     "iopub.execute_input": "2021-05-19T12:26:01.459972Z",
     "iopub.status.busy": "2021-05-19T12:26:01.446054Z",
     "iopub.status.idle": "2021-05-19T12:26:02.100008Z",
     "shell.execute_reply": "2021-05-19T12:26:02.099429Z"
    },
    "papermill": {
     "duration": 0.709519,
     "end_time": "2021-05-19T12:26:02.100201",
     "exception": false,
     "start_time": "2021-05-19T12:26:01.390682",
     "status": "completed"
    },
    "tags": []
   },
   "outputs": [
    {
     "data": {
      "image/png": "[encoded data removed]",
      "text/plain": [
       "<Figure size 864x1080 with 1 Axes>"
      ]
     },
     "metadata": {},
     "output_type": "display_data"
    }
   ],
   "source": [
    "# Figure Size\n",
    "fig, ax = plt.subplots(figsize=(12,15))\n",
    "\n",
    "# Horizontal Bar Plot\n",
    "title_cnt=df[\"Interested Type of Books\"].value_counts().sort_values(ascending=False).reset_index()\n",
    "mn= ax.barh(title_cnt.iloc[:,0], title_cnt.iloc[:,1],edgecolor='black', color=sns.color_palette('pastel',len(title_cnt)))\n",
    "\n",
    "\n",
    "\n",
    "# Remove axes splines\n",
    "for s in ['top','bottom','left','right']:\n",
    "    ax.spines[s].set_visible(False)\n",
    "\n",
    "# Remove x,y Ticks\n",
    "ax.xaxis.set_ticks_position('none')\n",
    "ax.yaxis.set_ticks_position('none')\n",
    "# Add padding between axes and labels\n",
    "ax.xaxis.set_tick_params(pad=5)\n",
    "ax.yaxis.set_tick_params(pad=10)\n",
    "\n",
    "\n",
    "# Show top values \n",
    "ax.invert_yaxis()\n",
    "\n",
    "# Add Plot Title\n",
    "ax.set_title('Interested Books',weight='bold',fontsize=20)\n",
    "ax.set_xlabel('Count', weight='bold')\n",
    "\n",
    "# Add annotation to bars\n",
    "for i in ax.patches:\n",
    "    ax.text(i.get_width()+1, i.get_y()+0.5, str(round((i.get_width()), 2)),\n",
    "             fontsize=10, fontweight='bold', color='grey')\n",
    "plt.yticks(weight='bold')\n",
    "plt.xticks(weight='bold')\n",
    "\n",
    "# Show Plot\n",
    "plt.show()"
   ]
  },
  {
   "cell_type": "code",
   "execution_count": 14,
   "id": "controlling-advance",
   "metadata": {
    "execution": {
     "iopub.execute_input": "2021-05-19T12:26:02.206775Z",
     "iopub.status.busy": "2021-05-19T12:26:02.205942Z",
     "iopub.status.idle": "2021-05-19T12:26:02.210285Z",
     "shell.execute_reply": "2021-05-19T12:26:02.210869Z"
    },
    "papermill": {
     "duration": 0.062568,
     "end_time": "2021-05-19T12:26:02.211079",
     "exception": false,
     "start_time": "2021-05-19T12:26:02.148511",
     "status": "completed"
    },
    "tags": []
   },
   "outputs": [
    {
     "name": "stdout",
     "output_type": "stream",
     "text": [
      "r programming           803\n",
      "information security    785\n",
      "shell programming       783\n",
      "machine learning        783\n",
      "full stack              768\n",
      "hadoop                  764\n",
      "python                  756\n",
      "distro making           740\n",
      "app development         719\n",
      "Name: certifications, dtype: int64\n"
     ]
    }
   ],
   "source": [
    "print(df[\"certifications\"].value_counts())"
   ]
  },
  {
   "cell_type": "code",
   "execution_count": 15,
   "id": "veterinary-barcelona",
   "metadata": {
    "execution": {
     "iopub.execute_input": "2021-05-19T12:26:02.326623Z",
     "iopub.status.busy": "2021-05-19T12:26:02.313642Z",
     "iopub.status.idle": "2021-05-19T12:26:02.617879Z",
     "shell.execute_reply": "2021-05-19T12:26:02.617318Z"
    },
    "papermill": {
     "duration": 0.359971,
     "end_time": "2021-05-19T12:26:02.618049",
     "exception": false,
     "start_time": "2021-05-19T12:26:02.258078",
     "status": "completed"
    },
    "tags": []
   },
   "outputs": [
    {
     "data": {
      "image/png": "[encoded data removed]",
      "text/plain": [
       "<Figure size 864x432 with 1 Axes>"
      ]
     },
     "metadata": {},
     "output_type": "display_data"
    }
   ],
   "source": [
    "# Figure Size\n",
    "fig, ax = plt.subplots(figsize=(12,6))\n",
    "\n",
    "# Horizontal Bar Plot\n",
    "title_cnt=df.certifications.value_counts().sort_values(ascending=False).reset_index()\n",
    "mn= ax.barh(title_cnt.iloc[:,0], title_cnt.iloc[:,1],edgecolor='black', color=sns.color_palette('pastel',len(title_cnt)))\n",
    "\n",
    "\n",
    "\n",
    "# Remove axes splines\n",
    "for s in ['top','bottom','left','right']:\n",
    "    ax.spines[s].set_visible(False)\n",
    "\n",
    "# Remove x,y Ticks\n",
    "ax.xaxis.set_ticks_position('none')\n",
    "ax.yaxis.set_ticks_position('none')\n",
    "# Add padding between axes and labels\n",
    "ax.xaxis.set_tick_params(pad=5)\n",
    "ax.yaxis.set_tick_params(pad=10)\n",
    "\n",
    "\n",
    "# Show top values \n",
    "ax.invert_yaxis()\n",
    "\n",
    "# Add Plot Title\n",
    "ax.set_title('Certifications',weight='bold',fontsize=20)\n",
    "ax.set_xlabel('Count', weight='bold')\n",
    "\n",
    "# Add annotation to bars\n",
    "for i in ax.patches:\n",
    "    ax.text(i.get_width()+1, i.get_y()+0.5, str(round((i.get_width()), 2)),\n",
    "             fontsize=10, fontweight='bold', color='grey')\n",
    "plt.yticks(weight='bold')\n",
    "plt.xticks(weight='bold')\n",
    "\n",
    "# Show Plot\n",
    "plt.show()"
   ]
  },
  {
   "cell_type": "code",
   "execution_count": 16,
   "id": "latin-powell",
   "metadata": {
    "execution": {
     "iopub.execute_input": "2021-05-19T12:26:02.726215Z",
     "iopub.status.busy": "2021-05-19T12:26:02.725232Z",
     "iopub.status.idle": "2021-05-19T12:26:02.731819Z",
     "shell.execute_reply": "2021-05-19T12:26:02.730615Z"
    },
    "papermill": {
     "duration": 0.06454,
     "end_time": "2021-05-19T12:26:02.732137",
     "exception": false,
     "start_time": "2021-05-19T12:26:02.667597",
     "status": "completed"
    },
    "tags": []
   },
   "outputs": [
    {
     "name": "stdout",
     "output_type": "stream",
     "text": [
      "database security    897\n",
      "web technologies     891\n",
      "system designing     891\n",
      "hacking              867\n",
      "testing              852\n",
      "data science         842\n",
      "game development     831\n",
      "cloud computing      830\n",
      "Name: workshops, dtype: int64\n"
     ]
    }
   ],
   "source": [
    "print(df[\"workshops\"].value_counts())"
   ]
  },
  {
   "cell_type": "code",
   "execution_count": 17,
   "id": "lesbian-british",
   "metadata": {
    "execution": {
     "iopub.execute_input": "2021-05-19T12:26:02.842791Z",
     "iopub.status.busy": "2021-05-19T12:26:02.841956Z",
     "iopub.status.idle": "2021-05-19T12:26:03.105296Z",
     "shell.execute_reply": "2021-05-19T12:26:03.105902Z"
    },
    "papermill": {
     "duration": 0.323365,
     "end_time": "2021-05-19T12:26:03.106130",
     "exception": false,
     "start_time": "2021-05-19T12:26:02.782765",
     "status": "completed"
    },
    "tags": []
   },
   "outputs": [
    {
     "data": {
      "image/png": "[encoded data removed]",
      "text/plain": [
       "<Figure size 864x432 with 1 Axes>"
      ]
     },
     "metadata": {},
     "output_type": "display_data"
    }
   ],
   "source": [
    "# Figure Size\n",
    "fig, ax = plt.subplots(figsize=(12,6))\n",
    "\n",
    "# Horizontal Bar Plot\n",
    "title_cnt=df.workshops.value_counts().sort_values(ascending=False).reset_index()\n",
    "mn= ax.barh(title_cnt.iloc[:,0], title_cnt.iloc[:,1],edgecolor='black', color=sns.color_palette('pastel',len(title_cnt)))\n",
    "\n",
    "\n",
    "\n",
    "# Remove axes splines\n",
    "for s in ['top','bottom','left','right']:\n",
    "    ax.spines[s].set_visible(False)\n",
    "\n",
    "# Remove x,y Ticks\n",
    "ax.xaxis.set_ticks_position('none')\n",
    "ax.yaxis.set_ticks_position('none')\n",
    "# Add padding between axes and labels\n",
    "ax.xaxis.set_tick_params(pad=5)\n",
    "ax.yaxis.set_tick_params(pad=10)\n",
    "\n",
    "\n",
    "# Show top values \n",
    "ax.invert_yaxis()\n",
    "\n",
    "# Add Plot Title\n",
    "ax.set_title('Workshops Attended',weight='bold',fontsize=20)\n",
    "ax.set_xlabel('Count', weight='bold')\n",
    "\n",
    "# Add annotation to bars\n",
    "for i in ax.patches:\n",
    "    ax.text(i.get_width()+1, i.get_y()+0.5, str(round((i.get_width()), 2)),\n",
    "             fontsize=10, fontweight='bold', color='grey')\n",
    "plt.yticks(weight='bold')\n",
    "plt.xticks(weight='bold')\n",
    "\n",
    "# Show Plot\n",
    "plt.show()"
   ]
  },
  {
   "cell_type": "code",
   "execution_count": 18,
   "id": "corporate-reset",
   "metadata": {
    "execution": {
     "iopub.execute_input": "2021-05-19T12:26:03.218918Z",
     "iopub.status.busy": "2021-05-19T12:26:03.218245Z",
     "iopub.status.idle": "2021-05-19T12:26:03.229000Z",
     "shell.execute_reply": "2021-05-19T12:26:03.228374Z"
    },
    "papermill": {
     "duration": 0.069903,
     "end_time": "2021-05-19T12:26:03.229168",
     "exception": false,
     "start_time": "2021-05-19T12:26:03.159265",
     "status": "completed"
    },
    "tags": []
   },
   "outputs": [
    {
     "name": "stdout",
     "output_type": "stream",
     "text": [
      "Service Based                        725\n",
      "Web Services                         719\n",
      "BPA                                  711\n",
      "Testing and Maintainance Services    698\n",
      "Product based                        695\n",
      "Finance                              694\n",
      "Cloud Services                       692\n",
      "product development                  669\n",
      "Sales and Marketing                  658\n",
      "SAaS services                        640\n",
      "Name: Type of company want to settle in?, dtype: int64\n"
     ]
    }
   ],
   "source": [
    "print(df[\"Type of company want to settle in?\"].value_counts())"
   ]
  },
  {
   "cell_type": "code",
   "execution_count": 19,
   "id": "daily-suspension",
   "metadata": {
    "execution": {
     "iopub.execute_input": "2021-05-19T12:26:03.355043Z",
     "iopub.status.busy": "2021-05-19T12:26:03.354326Z",
     "iopub.status.idle": "2021-05-19T12:26:03.645112Z",
     "shell.execute_reply": "2021-05-19T12:26:03.644231Z"
    },
    "papermill": {
     "duration": 0.364133,
     "end_time": "2021-05-19T12:26:03.645331",
     "exception": false,
     "start_time": "2021-05-19T12:26:03.281198",
     "status": "completed"
    },
    "tags": []
   },
   "outputs": [
    {
     "data": {
      "image/png": "[encoded data removed]",
      "text/plain": [
       "<Figure size 864x432 with 1 Axes>"
      ]
     },
     "metadata": {},
     "output_type": "display_data"
    }
   ],
   "source": [
    "# Figure Size\n",
    "fig, ax = plt.subplots(figsize=(12,6))\n",
    "\n",
    "# Horizontal Bar Plot\n",
    "title_cnt=df[\"Type of company want to settle in?\"].value_counts().sort_values(ascending=False).reset_index()\n",
    "mn= ax.barh(title_cnt.iloc[:,0], title_cnt.iloc[:,1],edgecolor='black', color=sns.color_palette('pastel',len(title_cnt)))\n",
    "\n",
    "\n",
    "\n",
    "# Remove axes splines\n",
    "for s in ['top','bottom','left','right']:\n",
    "    ax.spines[s].set_visible(False)\n",
    "\n",
    "# Remove x,y Ticks\n",
    "ax.xaxis.set_ticks_position('none')\n",
    "ax.yaxis.set_ticks_position('none')\n",
    "# Add padding between axes and labels\n",
    "ax.xaxis.set_tick_params(pad=5)\n",
    "ax.yaxis.set_tick_params(pad=10)\n",
    "\n",
    "\n",
    "# Show top values \n",
    "ax.invert_yaxis()\n",
    "\n",
    "# Add Plot Title\n",
    "ax.set_title('Type of Company you want to settle in?',weight='bold',fontsize=20)\n",
    "ax.set_xlabel('Count', weight='bold')\n",
    "\n",
    "# Add annotation to bars\n",
    "for i in ax.patches:\n",
    "    ax.text(i.get_width()+1, i.get_y()+0.5, str(round((i.get_width()), 2)),\n",
    "             fontsize=10, fontweight='bold', color='grey')\n",
    "plt.yticks(weight='bold')\n",
    "plt.xticks(weight='bold')\n",
    "\n",
    "# Show Plot\n",
    "plt.show()"
   ]
  },
  {
   "cell_type": "code",
   "execution_count": 20,
   "id": "gothic-abuse",
   "metadata": {
    "execution": {
     "iopub.execute_input": "2021-05-19T12:26:03.757770Z",
     "iopub.status.busy": "2021-05-19T12:26:03.757108Z",
     "iopub.status.idle": "2021-05-19T12:26:03.760816Z",
     "shell.execute_reply": "2021-05-19T12:26:03.761261Z"
    },
    "papermill": {
     "duration": 0.060572,
     "end_time": "2021-05-19T12:26:03.761426",
     "exception": false,
     "start_time": "2021-05-19T12:26:03.700854",
     "status": "completed"
    },
    "tags": []
   },
   "outputs": [
    {
     "name": "stdout",
     "output_type": "stream",
     "text": [
      "system developer            1178\n",
      "security                    1177\n",
      "Business process analyst    1154\n",
      "developer                   1145\n",
      "testing                     1128\n",
      "cloud computing             1119\n",
      "Name: interested career area , dtype: int64\n"
     ]
    }
   ],
   "source": [
    "print(df[\"interested career area \"].value_counts())"
   ]
  },
  {
   "cell_type": "code",
   "execution_count": 21,
   "id": "enclosed-parallel",
   "metadata": {
    "execution": {
     "iopub.execute_input": "2021-05-19T12:26:03.900816Z",
     "iopub.status.busy": "2021-05-19T12:26:03.900096Z",
     "iopub.status.idle": "2021-05-19T12:26:04.085701Z",
     "shell.execute_reply": "2021-05-19T12:26:04.085051Z"
    },
    "papermill": {
     "duration": 0.276431,
     "end_time": "2021-05-19T12:26:04.085846",
     "exception": false,
     "start_time": "2021-05-19T12:26:03.809415",
     "status": "completed"
    },
    "tags": []
   },
   "outputs": [
    {
     "data": {
      "image/png": "[encoded data removed]",
      "text/plain": [
       "<Figure size 720x288 with 1 Axes>"
      ]
     },
     "metadata": {},
     "output_type": "display_data"
    }
   ],
   "source": [
    "# Figure Size\n",
    "fig, ax = plt.subplots(figsize=(10,4)) #width,height\n",
    "\n",
    "# Horizontal Bar Plot\n",
    "title_cnt=df[\"interested career area \"].value_counts().sort_values(ascending=False).reset_index()\n",
    "mn= ax.barh(title_cnt.iloc[:,0], title_cnt.iloc[:,1],edgecolor='black', color=sns.color_palette('pastel',len(title_cnt)))\n",
    "\n",
    "\n",
    "\n",
    "# Remove axes splines\n",
    "for s in ['top','bottom','left','right']:\n",
    "    ax.spines[s].set_visible(False)\n",
    "\n",
    "# Remove x,y Ticks\n",
    "ax.xaxis.set_ticks_position('none')\n",
    "ax.yaxis.set_ticks_position('none')\n",
    "# Add padding between axes and labels\n",
    "ax.xaxis.set_tick_params(pad=5)\n",
    "ax.yaxis.set_tick_params(pad=10)\n",
    "\n",
    "\n",
    "# Show top values \n",
    "ax.invert_yaxis()\n",
    "\n",
    "# Add Plot Title\n",
    "ax.set_title('Interested Career Area ',weight='bold',fontsize=20)\n",
    "ax.set_xlabel('Count', weight='bold')\n",
    "\n",
    "# Add annotation to bars\n",
    "for i in ax.patches:\n",
    "    ax.text(i.get_width()+1, i.get_y()+0.5, str(round((i.get_width()), 2)),\n",
    "             fontsize=10, fontweight='bold', color='grey')\n",
    "plt.yticks(weight='bold')\n",
    "plt.xticks(weight='bold')\n",
    "\n",
    "# Show Plot\n",
    "plt.show()"
   ]
  },
  {
   "cell_type": "markdown",
   "id": "attempted-proof",
   "metadata": {
    "papermill": {
     "duration": 0.0497,
     "end_time": "2021-05-19T12:26:04.186442",
     "exception": false,
     "start_time": "2021-05-19T12:26:04.136742",
     "status": "completed"
    },
    "tags": []
   },
   "source": [
    "# **5. Feature Engineering** ⚙️"
   ]
  },
  {
   "cell_type": "markdown",
   "id": "understood-importance",
   "metadata": {
    "papermill": {
     "duration": 0.050259,
     "end_time": "2021-05-19T12:26:04.286950",
     "exception": false,
     "start_time": "2021-05-19T12:26:04.236691",
     "status": "completed"
    },
    "tags": []
   },
   "source": [
    "## (a) Binary Encoding for Categorical Variables"
   ]
  },
  {
   "cell_type": "code",
   "execution_count": 22,
   "id": "supposed-substitute",
   "metadata": {
    "execution": {
     "iopub.execute_input": "2021-05-19T12:26:04.402342Z",
     "iopub.status.busy": "2021-05-19T12:26:04.394902Z",
     "iopub.status.idle": "2021-05-19T12:26:04.433852Z",
     "shell.execute_reply": "2021-05-19T12:26:04.433117Z"
    },
    "papermill": {
     "duration": 0.096764,
     "end_time": "2021-05-19T12:26:04.433994",
     "exception": false,
     "start_time": "2021-05-19T12:26:04.337230",
     "status": "completed"
    },
    "tags": []
   },
   "outputs": [],
   "source": [
    "cols = df[[\"self-learning capability?\", \"Extra-courses did\",\"Taken inputs from seniors or elders\", \"worked in teams ever?\", \"Introvert\"]]\n",
    "for i in cols:\n",
    "    cleanup_nums = {i: {\"yes\": 1, \"no\": 0}}\n",
    "    df = df.replace(cleanup_nums)"
   ]
  },
  {
   "cell_type": "code",
   "execution_count": 23,
   "id": "polished-cover",
   "metadata": {
    "execution": {
     "iopub.execute_input": "2021-05-19T12:26:04.541354Z",
     "iopub.status.busy": "2021-05-19T12:26:04.540742Z",
     "iopub.status.idle": "2021-05-19T12:26:04.545878Z",
     "shell.execute_reply": "2021-05-19T12:26:04.546380Z"
    },
    "papermill": {
     "duration": 0.062498,
     "end_time": "2021-05-19T12:26:04.546544",
     "exception": false,
     "start_time": "2021-05-19T12:26:04.484046",
     "status": "completed"
    },
    "tags": []
   },
   "outputs": [
    {
     "name": "stdout",
     "output_type": "stream",
     "text": [
      "\n",
      "\n",
      "List of Categorical features: \n",
      " ['certifications', 'workshops', 'reading and writing skills', 'memory capability score', 'Interested subjects', 'interested career area ', 'Type of company want to settle in?', 'Interested Type of Books', 'Management or Technical', 'hard/smart worker', 'Suggested Job Role']\n"
     ]
    }
   ],
   "source": [
    "print(\"\\n\\nList of Categorical features: \\n\" , df.select_dtypes(include=['object']).columns.tolist())"
   ]
  },
  {
   "cell_type": "markdown",
   "id": "valuable-sucking",
   "metadata": {
    "papermill": {
     "duration": 0.05,
     "end_time": "2021-05-19T12:26:04.645640",
     "exception": false,
     "start_time": "2021-05-19T12:26:04.595640",
     "status": "completed"
    },
    "tags": []
   },
   "source": [
    "## (b) Number Encoding for Categorical "
   ]
  },
  {
   "cell_type": "code",
   "execution_count": 24,
   "id": "matched-status",
   "metadata": {
    "execution": {
     "iopub.execute_input": "2021-05-19T12:26:04.753348Z",
     "iopub.status.busy": "2021-05-19T12:26:04.752736Z",
     "iopub.status.idle": "2021-05-19T12:26:04.787101Z",
     "shell.execute_reply": "2021-05-19T12:26:04.787851Z"
    },
    "papermill": {
     "duration": 0.091556,
     "end_time": "2021-05-19T12:26:04.788089",
     "exception": false,
     "start_time": "2021-05-19T12:26:04.696533",
     "status": "completed"
    },
    "tags": []
   },
   "outputs": [
    {
     "name": "stdout",
     "output_type": "stream",
     "text": [
      "\n",
      "\n",
      "List of Categorical features: \n",
      " ['Management or Technical', 'hard/smart worker', 'Suggested Job Role']\n"
     ]
    }
   ],
   "source": [
    "mycol = df[[\"reading and writing skills\", \"memory capability score\"]]\n",
    "for i in mycol:\n",
    "    cleanup_nums = {i: {\"poor\": 0, \"medium\": 1, \"excellent\": 2}}\n",
    "    df = df.replace(cleanup_nums)\n",
    "\n",
    "category_cols = df[['certifications', 'workshops', 'Interested subjects', 'interested career area ', 'Type of company want to settle in?', \n",
    "                    'Interested Type of Books']]\n",
    "for i in category_cols:\n",
    "    df[i] = df[i].astype('category')\n",
    "    df[i + \"_code\"] = df[i].cat.codes\n",
    "\n",
    "print(\"\\n\\nList of Categorical features: \\n\" , df.select_dtypes(include=['object']).columns.tolist())"
   ]
  },
  {
   "cell_type": "markdown",
   "id": "accepting-calibration",
   "metadata": {
    "papermill": {
     "duration": 0.051218,
     "end_time": "2021-05-19T12:26:04.889143",
     "exception": false,
     "start_time": "2021-05-19T12:26:04.837925",
     "status": "completed"
    },
    "tags": []
   },
   "source": [
    "## (c) Dummy Variable Encoding"
   ]
  },
  {
   "cell_type": "code",
   "execution_count": 25,
   "id": "breathing-liverpool",
   "metadata": {
    "execution": {
     "iopub.execute_input": "2021-05-19T12:26:04.994677Z",
     "iopub.status.busy": "2021-05-19T12:26:04.994049Z",
     "iopub.status.idle": "2021-05-19T12:26:05.001266Z",
     "shell.execute_reply": "2021-05-19T12:26:05.002081Z"
    },
    "papermill": {
     "duration": 0.061429,
     "end_time": "2021-05-19T12:26:05.002340",
     "exception": false,
     "start_time": "2021-05-19T12:26:04.940911",
     "status": "completed"
    },
    "tags": []
   },
   "outputs": [
    {
     "name": "stdout",
     "output_type": "stream",
     "text": [
      "['Management' 'Technical']\n",
      "['smart worker' 'hard worker']\n"
     ]
    }
   ],
   "source": [
    "print(df['Management or Technical'].unique())\n",
    "print(df['hard/smart worker'].unique())"
   ]
  },
  {
   "cell_type": "code",
   "execution_count": 26,
   "id": "continued-purse",
   "metadata": {
    "execution": {
     "iopub.execute_input": "2021-05-19T12:26:05.105526Z",
     "iopub.status.busy": "2021-05-19T12:26:05.104680Z",
     "iopub.status.idle": "2021-05-19T12:26:05.136984Z",
     "shell.execute_reply": "2021-05-19T12:26:05.136332Z"
    },
    "papermill": {
     "duration": 0.084463,
     "end_time": "2021-05-19T12:26:05.137147",
     "exception": false,
     "start_time": "2021-05-19T12:26:05.052684",
     "status": "completed"
    },
    "tags": []
   },
   "outputs": [
    {
     "data": {
      "text/html": [
       "<div>\n",
       "<style scoped>\n",
       "    .dataframe tbody tr th:only-of-type {\n",
       "        vertical-align: middle;\n",
       "    }\n",
       "\n",
       "    .dataframe tbody tr th {\n",
       "        vertical-align: top;\n",
       "    }\n",
       "\n",
       "    .dataframe thead th {\n",
       "        text-align: right;\n",
       "    }\n",
       "</style>\n",
       "<table border=\"1\" class=\"dataframe\">\n",
       "  <thead>\n",
       "    <tr style=\"text-align: right;\">\n",
       "      <th></th>\n",
       "      <th>Logical quotient rating</th>\n",
       "      <th>hackathons</th>\n",
       "      <th>coding skills rating</th>\n",
       "      <th>public speaking points</th>\n",
       "      <th>self-learning capability?</th>\n",
       "      <th>Extra-courses did</th>\n",
       "      <th>certifications</th>\n",
       "      <th>workshops</th>\n",
       "      <th>reading and writing skills</th>\n",
       "      <th>memory capability score</th>\n",
       "      <th>...</th>\n",
       "      <th>certifications_code</th>\n",
       "      <th>workshops_code</th>\n",
       "      <th>Interested subjects_code</th>\n",
       "      <th>interested career area _code</th>\n",
       "      <th>Type of company want to settle in?_code</th>\n",
       "      <th>Interested Type of Books_code</th>\n",
       "      <th>A_Management</th>\n",
       "      <th>A_Technical</th>\n",
       "      <th>B_hard worker</th>\n",
       "      <th>B_smart worker</th>\n",
       "    </tr>\n",
       "  </thead>\n",
       "  <tbody>\n",
       "    <tr>\n",
       "      <th>0</th>\n",
       "      <td>5</td>\n",
       "      <td>0</td>\n",
       "      <td>6</td>\n",
       "      <td>2</td>\n",
       "      <td>1</td>\n",
       "      <td>0</td>\n",
       "      <td>information security</td>\n",
       "      <td>testing</td>\n",
       "      <td>0</td>\n",
       "      <td>0</td>\n",
       "      <td>...</td>\n",
       "      <td>4</td>\n",
       "      <td>6</td>\n",
       "      <td>9</td>\n",
       "      <td>5</td>\n",
       "      <td>0</td>\n",
       "      <td>28</td>\n",
       "      <td>1</td>\n",
       "      <td>0</td>\n",
       "      <td>0</td>\n",
       "      <td>1</td>\n",
       "    </tr>\n",
       "    <tr>\n",
       "      <th>1</th>\n",
       "      <td>7</td>\n",
       "      <td>6</td>\n",
       "      <td>4</td>\n",
       "      <td>3</td>\n",
       "      <td>0</td>\n",
       "      <td>1</td>\n",
       "      <td>shell programming</td>\n",
       "      <td>testing</td>\n",
       "      <td>2</td>\n",
       "      <td>1</td>\n",
       "      <td>...</td>\n",
       "      <td>8</td>\n",
       "      <td>6</td>\n",
       "      <td>2</td>\n",
       "      <td>4</td>\n",
       "      <td>1</td>\n",
       "      <td>3</td>\n",
       "      <td>0</td>\n",
       "      <td>1</td>\n",
       "      <td>1</td>\n",
       "      <td>0</td>\n",
       "    </tr>\n",
       "    <tr>\n",
       "      <th>2</th>\n",
       "      <td>2</td>\n",
       "      <td>3</td>\n",
       "      <td>9</td>\n",
       "      <td>1</td>\n",
       "      <td>0</td>\n",
       "      <td>1</td>\n",
       "      <td>information security</td>\n",
       "      <td>testing</td>\n",
       "      <td>2</td>\n",
       "      <td>0</td>\n",
       "      <td>...</td>\n",
       "      <td>4</td>\n",
       "      <td>6</td>\n",
       "      <td>5</td>\n",
       "      <td>0</td>\n",
       "      <td>9</td>\n",
       "      <td>29</td>\n",
       "      <td>0</td>\n",
       "      <td>1</td>\n",
       "      <td>0</td>\n",
       "      <td>1</td>\n",
       "    </tr>\n",
       "    <tr>\n",
       "      <th>3</th>\n",
       "      <td>2</td>\n",
       "      <td>6</td>\n",
       "      <td>3</td>\n",
       "      <td>5</td>\n",
       "      <td>0</td>\n",
       "      <td>1</td>\n",
       "      <td>r programming</td>\n",
       "      <td>database security</td>\n",
       "      <td>2</td>\n",
       "      <td>0</td>\n",
       "      <td>...</td>\n",
       "      <td>7</td>\n",
       "      <td>2</td>\n",
       "      <td>7</td>\n",
       "      <td>5</td>\n",
       "      <td>7</td>\n",
       "      <td>13</td>\n",
       "      <td>1</td>\n",
       "      <td>0</td>\n",
       "      <td>0</td>\n",
       "      <td>1</td>\n",
       "    </tr>\n",
       "    <tr>\n",
       "      <th>4</th>\n",
       "      <td>2</td>\n",
       "      <td>0</td>\n",
       "      <td>3</td>\n",
       "      <td>4</td>\n",
       "      <td>1</td>\n",
       "      <td>0</td>\n",
       "      <td>distro making</td>\n",
       "      <td>game development</td>\n",
       "      <td>2</td>\n",
       "      <td>1</td>\n",
       "      <td>...</td>\n",
       "      <td>1</td>\n",
       "      <td>3</td>\n",
       "      <td>3</td>\n",
       "      <td>4</td>\n",
       "      <td>0</td>\n",
       "      <td>14</td>\n",
       "      <td>0</td>\n",
       "      <td>1</td>\n",
       "      <td>1</td>\n",
       "      <td>0</td>\n",
       "    </tr>\n",
       "  </tbody>\n",
       "</table>\n",
       "<p>5 rows × 28 columns</p>\n",
       "</div>"
      ],
      "text/plain": [
       "   Logical quotient rating  hackathons  coding skills rating  \\\n",
       "0                        5           0                     6   \n",
       "1                        7           6                     4   \n",
       "2                        2           3                     9   \n",
       "3                        2           6                     3   \n",
       "4                        2           0                     3   \n",
       "\n",
       "   public speaking points  self-learning capability?  Extra-courses did  \\\n",
       "0                       2                          1                  0   \n",
       "1                       3                          0                  1   \n",
       "2                       1                          0                  1   \n",
       "3                       5                          0                  1   \n",
       "4                       4                          1                  0   \n",
       "\n",
       "         certifications          workshops  reading and writing skills  \\\n",
       "0  information security            testing                           0   \n",
       "1     shell programming            testing                           2   \n",
       "2  information security            testing                           2   \n",
       "3         r programming  database security                           2   \n",
       "4         distro making   game development                           2   \n",
       "\n",
       "   memory capability score  ... certifications_code workshops_code  \\\n",
       "0                        0  ...                   4              6   \n",
       "1                        1  ...                   8              6   \n",
       "2                        0  ...                   4              6   \n",
       "3                        0  ...                   7              2   \n",
       "4                        1  ...                   1              3   \n",
       "\n",
       "  Interested subjects_code  interested career area _code  \\\n",
       "0                        9                             5   \n",
       "1                        2                             4   \n",
       "2                        5                             0   \n",
       "3                        7                             5   \n",
       "4                        3                             4   \n",
       "\n",
       "  Type of company want to settle in?_code  Interested Type of Books_code  \\\n",
       "0                                       0                             28   \n",
       "1                                       1                              3   \n",
       "2                                       9                             29   \n",
       "3                                       7                             13   \n",
       "4                                       0                             14   \n",
       "\n",
       "   A_Management A_Technical  B_hard worker  B_smart worker  \n",
       "0             1           0              0               1  \n",
       "1             0           1              1               0  \n",
       "2             0           1              0               1  \n",
       "3             1           0              0               1  \n",
       "4             0           1              1               0  \n",
       "\n",
       "[5 rows x 28 columns]"
      ]
     },
     "execution_count": 26,
     "metadata": {},
     "output_type": "execute_result"
    }
   ],
   "source": [
    "df = pd.get_dummies(df, columns=[\"Management or Technical\", \"hard/smart worker\"], prefix=[\"A\", \"B\"])\n",
    "df.head()"
   ]
  },
  {
   "cell_type": "code",
   "execution_count": 27,
   "id": "ahead-worse",
   "metadata": {
    "execution": {
     "iopub.execute_input": "2021-05-19T12:26:05.247897Z",
     "iopub.status.busy": "2021-05-19T12:26:05.247144Z",
     "iopub.status.idle": "2021-05-19T12:26:05.252219Z",
     "shell.execute_reply": "2021-05-19T12:26:05.251747Z"
    },
    "papermill": {
     "duration": 0.065428,
     "end_time": "2021-05-19T12:26:05.252350",
     "exception": false,
     "start_time": "2021-05-19T12:26:05.186922",
     "status": "completed"
    },
    "tags": []
   },
   "outputs": [
    {
     "name": "stdout",
     "output_type": "stream",
     "text": [
      "List of Numerical features: \n",
      " ['Logical quotient rating', 'hackathons', 'coding skills rating', 'public speaking points', 'self-learning capability?', 'Extra-courses did', 'reading and writing skills', 'memory capability score', 'Taken inputs from seniors or elders', 'worked in teams ever?', 'Introvert', 'certifications_code', 'workshops_code', 'Interested subjects_code', 'interested career area _code', 'Type of company want to settle in?_code', 'Interested Type of Books_code', 'A_Management', 'A_Technical', 'B_hard worker', 'B_smart worker']\n"
     ]
    }
   ],
   "source": [
    "print(\"List of Numerical features: \\n\" , df.select_dtypes(include=np.number).columns.tolist())"
   ]
  },
  {
   "cell_type": "markdown",
   "id": "taken-rocket",
   "metadata": {
    "papermill": {
     "duration": 0.051994,
     "end_time": "2021-05-19T12:26:05.356195",
     "exception": false,
     "start_time": "2021-05-19T12:26:05.304201",
     "status": "completed"
    },
    "tags": []
   },
   "source": [
    "# **6. Building Machine Learning Model** 🤖"
   ]
  },
  {
   "cell_type": "code",
   "execution_count": 28,
   "id": "coral-scholarship",
   "metadata": {
    "execution": {
     "iopub.execute_input": "2021-05-19T12:26:05.464989Z",
     "iopub.status.busy": "2021-05-19T12:26:05.464278Z",
     "iopub.status.idle": "2021-05-19T12:26:05.473294Z",
     "shell.execute_reply": "2021-05-19T12:26:05.472762Z"
    },
    "papermill": {
     "duration": 0.06566,
     "end_time": "2021-05-19T12:26:05.473423",
     "exception": false,
     "start_time": "2021-05-19T12:26:05.407763",
     "status": "completed"
    },
    "tags": []
   },
   "outputs": [],
   "source": [
    "feed = df[['Logical quotient rating', 'coding skills rating', 'hackathons', 'public speaking points', 'self-learning capability?','Extra-courses did', \n",
    "           'Taken inputs from seniors or elders', 'worked in teams ever?', 'Introvert', 'reading and writing skills', 'memory capability score',  \n",
    "           'B_hard worker', 'B_smart worker', 'A_Management', 'A_Technical', 'Interested subjects_code', 'Interested Type of Books_code', 'certifications_code', \n",
    "           'workshops_code', 'Type of company want to settle in?_code',  'interested career area _code',\n",
    "             'Suggested Job Role']]\n",
    "\n",
    "# Taking all independent variable columns\n",
    "df_train_x = feed.drop('Suggested Job Role',axis = 1)\n",
    "\n",
    "# Target variable column\n",
    "df_train_y = feed['Suggested Job Role']\n",
    "\n",
    "x_train, x_test, y_train, y_test = train_test_split(df_train_x, df_train_y, test_size=0.20, random_state=42)\n"
   ]
  },
  {
   "cell_type": "markdown",
   "id": "limiting-monaco",
   "metadata": {
    "papermill": {
     "duration": 0.047666,
     "end_time": "2021-05-19T12:26:05.570105",
     "exception": false,
     "start_time": "2021-05-19T12:26:05.522439",
     "status": "completed"
    },
    "tags": []
   },
   "source": [
    "# **(a) Decision Tree 🌳 Classifier**"
   ]
  },
  {
   "cell_type": "code",
   "execution_count": 29,
   "id": "primary-station",
   "metadata": {
    "execution": {
     "iopub.execute_input": "2021-05-19T12:26:05.679652Z",
     "iopub.status.busy": "2021-05-19T12:26:05.678694Z",
     "iopub.status.idle": "2021-05-19T12:26:05.746945Z",
     "shell.execute_reply": "2021-05-19T12:26:05.747388Z"
    },
    "papermill": {
     "duration": 0.128066,
     "end_time": "2021-05-19T12:26:05.747559",
     "exception": false,
     "start_time": "2021-05-19T12:26:05.619493",
     "status": "completed"
    },
    "tags": []
   },
   "outputs": [
    {
     "name": "stdout",
     "output_type": "stream",
     "text": [
      "confusion matrics= [[10 14 12  8 14 16  6 11  8 10 13 10]\n",
      " [13  4 12  7  4  5  9 10 15  9  7 10]\n",
      " [13 13 12 12 10 11 11  9  8  9  4 11]\n",
      " [ 6 10  9  9  9  4  5 10  6  8 12 12]\n",
      " [11  7  9 12 10 11  8 13  5  8 16 11]\n",
      " [ 9 10  6 15 12  5  7  8 12 13 14  2]\n",
      " [ 8 16 10 11  8  7 17  3 11 10  9  6]\n",
      " [11 10  6  5  9 10 21 10 15  8  6  7]\n",
      " [ 7  8  6 13 10 16 13  8  8  5 10 10]\n",
      " [ 7 11  9  5 15  8  6  9 10 13 11  7]\n",
      " [ 8 16  7  8  9  7 13 12  8 14  7 10]\n",
      " [ 3 12  8 16  7  6 12  9 15  8  4  9]]\n",
      "  \n",
      "accuracy= 8.254887762490949\n"
     ]
    }
   ],
   "source": [
    "clf = tree.DecisionTreeClassifier()\n",
    "clf = clf.fit(x_train, y_train)\n",
    "\n",
    "\n",
    "y_pred = clf.predict(x_test)\n",
    "cm = confusion_matrix(y_test,y_pred)\n",
    "accuracy = accuracy_score(y_test,y_pred)\n",
    "print(\"confusion matrics=\",cm)\n",
    "print(\"  \")\n",
    "print(\"accuracy=\",accuracy*100)"
   ]
  },
  {
   "cell_type": "markdown",
   "id": "eight-hotel",
   "metadata": {
    "papermill": {
     "duration": 0.051777,
     "end_time": "2021-05-19T12:26:05.849678",
     "exception": false,
     "start_time": "2021-05-19T12:26:05.797901",
     "status": "completed"
    },
    "tags": []
   },
   "source": [
    "# **(b) Supprt Vector Machine Classifier**"
   ]
  },
  {
   "cell_type": "code",
   "execution_count": 30,
   "id": "copyrighted-binary",
   "metadata": {
    "execution": {
     "iopub.execute_input": "2021-05-19T12:26:05.956692Z",
     "iopub.status.busy": "2021-05-19T12:26:05.956087Z",
     "iopub.status.idle": "2021-05-19T12:26:09.977388Z",
     "shell.execute_reply": "2021-05-19T12:26:09.977797Z"
    },
    "papermill": {
     "duration": 4.078546,
     "end_time": "2021-05-19T12:26:09.977958",
     "exception": false,
     "start_time": "2021-05-19T12:26:05.899412",
     "status": "completed"
    },
    "tags": []
   },
   "outputs": [
    {
     "name": "stdout",
     "output_type": "stream",
     "text": [
      "confusion matrics= [[ 1  5  0  6 41 20 18  6 15 12  6  2]\n",
      " [ 1  7  0  3 44  5 15 13  3  9  3  2]\n",
      " [ 0  5  2  5 44 14 19  9  6 10  6  3]\n",
      " [ 2  7  1  3 41 13  9  6  3 10  2  3]\n",
      " [ 2  7  3  4 40 17 18  9  4 13  1  3]\n",
      " [ 1 10  0  4 44 14 12 13  4  8  2  1]\n",
      " [ 1  6  3  2 40  7 13 17 12  8  4  3]\n",
      " [ 0  7  1  6 37 12 16 13 11 11  4  0]\n",
      " [ 0  9  0  3 37 13 14 13  6 12  2  5]\n",
      " [ 0  8  0  3 43 13 15  8  5 11  3  2]\n",
      " [ 1  8  1  3 40 16 18 12  4 10  4  2]\n",
      " [ 2  9  6  2 33 13 10 12 10  9  2  1]]\n",
      "  \n",
      "accuracy= 8.32729905865315\n"
     ]
    }
   ],
   "source": [
    "clf = svm.SVC()\n",
    "clf.fit(x_train, y_train)\n",
    "svm_y_pred = clf.predict(x_test)\n",
    "svm_cm = confusion_matrix(y_test,svm_y_pred)\n",
    "svm_accuracy = accuracy_score(y_test,svm_y_pred)\n",
    "print(\"confusion matrics=\",svm_cm)\n",
    "print(\"  \")\n",
    "print(\"accuracy=\",svm_accuracy*100)"
   ]
  },
  {
   "cell_type": "markdown",
   "id": "alleged-comparison",
   "metadata": {
    "papermill": {
     "duration": 0.049891,
     "end_time": "2021-05-19T12:26:10.079139",
     "exception": false,
     "start_time": "2021-05-19T12:26:10.029248",
     "status": "completed"
    },
    "tags": []
   },
   "source": [
    "# **(c) XG Boost Classifier**"
   ]
  },
  {
   "cell_type": "code",
   "execution_count": 31,
   "id": "electrical-effort",
   "metadata": {
    "execution": {
     "iopub.execute_input": "2021-05-19T12:26:10.188958Z",
     "iopub.status.busy": "2021-05-19T12:26:10.188092Z",
     "iopub.status.idle": "2021-05-19T12:26:14.006297Z",
     "shell.execute_reply": "2021-05-19T12:26:14.006741Z"
    },
    "papermill": {
     "duration": 3.876607,
     "end_time": "2021-05-19T12:26:14.006914",
     "exception": false,
     "start_time": "2021-05-19T12:26:10.130307",
     "status": "completed"
    },
    "tags": []
   },
   "outputs": [
    {
     "name": "stderr",
     "output_type": "stream",
     "text": [
      "/opt/conda/lib/python3.7/site-packages/xgboost/sklearn.py:1146: UserWarning: The use of label encoder in XGBClassifier is deprecated and will be removed in a future release. To remove this warning, do the following: 1) Pass option use_label_encoder=False when constructing XGBClassifier object; and 2) Encode your labels (y) as integers starting with 0, i.e. 0, 1, 2, ..., [num_class - 1].\n",
      "  warnings.warn(label_encoder_deprecation_msg, UserWarning)\n"
     ]
    },
    {
     "name": "stdout",
     "output_type": "stream",
     "text": [
      "[12:26:10] WARNING: ../src/learner.cc:1095: Starting in XGBoost 1.3.0, the default evaluation metric used with the objective 'multi:softprob' was changed from 'merror' to 'mlogloss'. Explicitly set eval_metric if you'd like to restore the old behavior.\n",
      "confusion matrics= [[ 8 18 11  7 10  5 10  4 14 14 16 15]\n",
      " [ 6  5 11  7 13  8 12  5  5  9 14 10]\n",
      " [ 7  9 11 13 12 10 11 11 10 10 10  9]\n",
      " [11 11  3 10 13  3 10 10  5  5 14  5]\n",
      " [ 9 12  9  6  7  4 18  7 16 12 14  7]\n",
      " [ 5 12  9  5 13 11 10 13 10  9  9  7]\n",
      " [ 8 16 10 10 15 11  1  8 12  5 13  7]\n",
      " [ 9 12  9  6 13  5 15  9  8  7 12 13]\n",
      " [ 5  7  7  8 13 20 11  9  5  8 10 11]\n",
      " [ 8 13  6  6 15  7  9 11 15  7  9  5]\n",
      " [ 9 10 15  4 17 10 10  6 12 10 11  5]\n",
      " [ 6  6 15  6 14  8  6 14 11  5  9  9]]\n",
      "  \n",
      "accuracy= 6.806661839246922\n"
     ]
    },
    {
     "name": "stderr",
     "output_type": "stream",
     "text": [
      "/opt/conda/lib/python3.7/site-packages/xgboost/data.py:114: UserWarning: Use subset (sliced data) of np.ndarray is not recommended because it will generate extra copies and increase memory consumption\n",
      "  \"because it will generate extra copies and increase \" +\n"
     ]
    }
   ],
   "source": [
    "model = XGBClassifier()\n",
    "model.fit(x_train, y_train)\n",
    "xgb_y_pred = model.predict(x_test)\n",
    "xgb_cm = confusion_matrix(y_test,xgb_y_pred)\n",
    "xgb_accuracy = accuracy_score(y_test,xgb_y_pred)\n",
    "print(\"confusion matrics=\",xgb_cm)\n",
    "print(\"  \")\n",
    "print(\"accuracy=\",xgb_accuracy*100)"
   ]
  },
  {
   "cell_type": "markdown",
   "id": "renewable-manual",
   "metadata": {
    "papermill": {
     "duration": 0.051334,
     "end_time": "2021-05-19T12:26:14.109137",
     "exception": false,
     "start_time": "2021-05-19T12:26:14.057803",
     "status": "completed"
    },
    "tags": []
   },
   "source": [
    "# **(d) Random Forest Classifier** 🌲🌲🌲🌲"
   ]
  },
  {
   "cell_type": "code",
   "execution_count": 32,
   "id": "polyphonic-vanilla",
   "metadata": {
    "execution": {
     "iopub.execute_input": "2021-05-19T12:26:14.217564Z",
     "iopub.status.busy": "2021-05-19T12:26:14.216953Z",
     "iopub.status.idle": "2021-05-19T12:26:15.175976Z",
     "shell.execute_reply": "2021-05-19T12:26:15.175140Z"
    },
    "papermill": {
     "duration": 1.016584,
     "end_time": "2021-05-19T12:26:15.176169",
     "exception": false,
     "start_time": "2021-05-19T12:26:14.159585",
     "status": "completed"
    },
    "tags": []
   },
   "outputs": [
    {
     "name": "stdout",
     "output_type": "stream",
     "text": [
      "confusion matrics= [[ 1  5  0  6 41 20 18  6 15 12  6  2]\n",
      " [ 1  7  0  3 44  5 15 13  3  9  3  2]\n",
      " [ 0  5  2  5 44 14 19  9  6 10  6  3]\n",
      " [ 2  7  1  3 41 13  9  6  3 10  2  3]\n",
      " [ 2  7  3  4 40 17 18  9  4 13  1  3]\n",
      " [ 1 10  0  4 44 14 12 13  4  8  2  1]\n",
      " [ 1  6  3  2 40  7 13 17 12  8  4  3]\n",
      " [ 0  7  1  6 37 12 16 13 11 11  4  0]\n",
      " [ 0  9  0  3 37 13 14 13  6 12  2  5]\n",
      " [ 0  8  0  3 43 13 15  8  5 11  3  2]\n",
      " [ 1  8  1  3 40 16 18 12  4 10  4  2]\n",
      " [ 2  9  6  2 33 13 10 12 10  9  2  1]]\n",
      "  \n",
      "accuracy= 7.530774800868937\n"
     ]
    }
   ],
   "source": [
    "clf = RandomForestClassifier()\n",
    "clf.fit(x_train, y_train)\n",
    "rfc_y_pred = clf.predict(x_test)\n",
    "rfc_cm = confusion_matrix(y_test,svm_y_pred)\n",
    "rfc_accuracy = accuracy_score(y_test,rfc_y_pred)\n",
    "print(\"confusion matrics=\",rfc_cm)\n",
    "print(\"  \")\n",
    "print(\"accuracy=\",rfc_accuracy*100)"
   ]
  },
  {
   "cell_type": "markdown",
   "id": "upset-insulin",
   "metadata": {
    "papermill": {
     "duration": 0.053178,
     "end_time": "2021-05-19T12:26:15.281782",
     "exception": false,
     "start_time": "2021-05-19T12:26:15.228604",
     "status": "completed"
    },
    "tags": []
   },
   "source": [
    "### **Suggestions are always welcome!** 😃📚📊📐"
   ]
  }
 ],
 "metadata": {
  "kernelspec": {
   "display_name": "Python 3",
   "language": "python",
   "name": "python3"
  },
  "language_info": {
   "codemirror_mode": {
    "name": "ipython",
    "version": 3
   },
   "file_extension": ".py",
   "mimetype": "text/x-python",
   "name": "python",
   "nbconvert_exporter": "python",
   "pygments_lexer": "ipython3",
   "version": "3.7.10"
  },
  "papermill": {
   "default_parameters": {},
   "duration": 27.75906,
   "end_time": "2021-05-19T12:26:16.895645",
   "environment_variables": {},
   "exception": null,
   "input_path": "__notebook__.ipynb",
   "output_path": "__notebook__.ipynb",
   "parameters": {},
   "start_time": "2021-05-19T12:25:49.136585",
   "version": "2.3.3"
  }
 },
 "nbformat": 4,
 "nbformat_minor": 5
}
